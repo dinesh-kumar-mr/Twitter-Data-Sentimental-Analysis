{
 "cells": [
  {
   "cell_type": "code",
   "execution_count": 1,
   "metadata": {},
   "outputs": [],
   "source": [
    "import tweepy\n",
    "import pandas as pd\n",
    "import pymongo\n",
    "import datetime\n",
    "from pymongo import MongoClient, ASCENDING, TEXT"
   ]
  },
  {
   "cell_type": "code",
   "execution_count": 2,
   "metadata": {},
   "outputs": [],
   "source": [
    "consumer_key = 'jCVZcxudnaBiO8IjDIKburzU8'\n",
    "consumer_secret = 'eTKxXOT1X3kGuFzpSIFewDfO0KASKcMSqfTLmiZqwFoDc8wjtH'\n",
    "access_token = '1294569170135212032-yFNqooPaM1xWRwMS1dOzULaiSap2sv'\n",
    "access_secret = 'Z3TFX8uNL6ulXJDLBNzPYRYCgJcikZNnheSfWSMIhgJaT'\n",
    "bearer_token ='AAAAAAAAAAAAAAAAAAAAAJdtlAEAAAAA4u3gYVNv8sBwdYczEOY%2FW5hcDXo%3Duu3uKcVwFQ6bnYkTxPHIiQSkKT9fDWafMSe338rbSJzd6X305K'"
   ]
  },
  {
   "cell_type": "code",
   "execution_count": 3,
   "metadata": {},
   "outputs": [],
   "source": [
    "client = MongoClient('mongodb://localhost:27017')\n",
    "db = client.twitter\n",
    "tweet = db.tweet\n",
    "twitter_collection = db.twitter_collection\n",
    "tweet_1 = db.tweet_1"
   ]
  },
  {
   "cell_type": "code",
   "execution_count": 4,
   "metadata": {},
   "outputs": [
    {
     "data": {
      "text/plain": [
       "{}"
      ]
     },
     "execution_count": 4,
     "metadata": {},
     "output_type": "execute_result"
    }
   ],
   "source": [
    "tweet.index_information()"
   ]
  },
  {
   "cell_type": "code",
   "execution_count": 5,
   "metadata": {},
   "outputs": [
    {
     "data": {
      "text/plain": [
       "{'_id_': {'v': 2, 'key': [('_id', 1)]}}"
      ]
     },
     "execution_count": 5,
     "metadata": {},
     "output_type": "execute_result"
    }
   ],
   "source": [
    "twitter_collection.index_information()"
   ]
  },
  {
   "cell_type": "code",
   "execution_count": 6,
   "metadata": {},
   "outputs": [],
   "source": [
    "# authentication\n",
    "auth = tweepy.OAuthHandler(consumer_key, consumer_secret)\n",
    "auth.set_access_token(access_token, access_secret)\n",
    "api = tweepy.API(auth)"
   ]
  },
  {
   "cell_type": "code",
   "execution_count": 7,
   "metadata": {},
   "outputs": [
    {
     "name": "stdout",
     "output_type": "stream",
     "text": [
      "259\n"
     ]
    }
   ],
   "source": [
    "print(twitter_collection.estimated_document_count())"
   ]
  },
  {
   "cell_type": "code",
   "execution_count": 8,
   "metadata": {},
   "outputs": [
    {
     "name": "stdout",
     "output_type": "stream",
     "text": [
      "Tweet Saved in Collecction, Tweet_count:  1\n",
      "Tweet Saved in Collecction, Tweet_count:  2\n",
      "Tweet Saved in Collecction, Tweet_count:  3\n",
      "Tweet Saved in Collecction, Tweet_count:  4\n",
      "Tweet Saved in Collecction, Tweet_count:  5\n",
      "Tweet Saved in Collecction, Tweet_count:  6\n",
      "Tweet Saved in Collecction, Tweet_count:  7\n",
      "Tweet Saved in Collecction, Tweet_count:  8\n",
      "Tweet Saved in Collecction, Tweet_count:  9\n",
      "Tweet Saved in Collecction, Tweet_count:  10\n",
      "Tweet Saved in Collecction, Tweet_count:  11\n",
      "Tweet Saved in Collecction, Tweet_count:  12\n",
      "Tweet Saved in Collecction, Tweet_count:  13\n",
      "Tweet Saved in Collecction, Tweet_count:  14\n",
      "Tweet Saved in Collecction, Tweet_count:  15\n"
     ]
    }
   ],
   "source": [
    "search_results = api.search_tweets( count= 15,q= 'College', lang = 'en', result_type = 'popular', until = '2023-01-09')\n",
    "t_count=0\n",
    "for i in search_results:\n",
    "    try : \n",
    "        twitter_collection.insert_one(i._json) \n",
    "        t_count+=1\n",
    "        print(\"Tweet Saved in Collecction, Tweet_count: \",t_count)\n",
    "    except : \n",
    "        print(\"Not Saved in collection, Tweet Id is not Unique\")\n",
    "        pass"
   ]
  },
  {
   "cell_type": "code",
   "execution_count": 9,
   "metadata": {},
   "outputs": [
    {
     "name": "stdout",
     "output_type": "stream",
     "text": [
      "Number of Documents in Collection:  274\n"
     ]
    }
   ],
   "source": [
    "print(\"Number of Documents in Collection: \",twitter_collection.estimated_document_count())"
   ]
  },
  {
   "cell_type": "code",
   "execution_count": 10,
   "metadata": {},
   "outputs": [
    {
     "name": "stdout",
     "output_type": "stream",
     "text": [
      "_ _ _ _ _ _ _ _ _ _ _ \n",
      "User name: Rep. Anna V. Eskamani 🔨\n",
      "Text: So much attention on what's happening at @NewCollegeofFL but not enough attention of how this sits in the larger fr… https://t.co/ZIZfrhTbJI\n",
      "_ _ _ _ _ _ _ _ _ _ _ \n",
      "User name: Ashok Gehlot\n",
      "Text: Talking to media at SMS Medical College | January 08. https://t.co/sjiIq7dkQu\n",
      "_ _ _ _ _ _ _ _ _ _ _ \n",
      "User name: Dinesh D'Souza\n",
      "Text: The Ontario College of Psychologists has ordered Jordan Peterson to mandatory social media communication retraining… https://t.co/tniUeEcVXo\n",
      "_ _ _ _ _ _ _ _ _ _ _ \n",
      "User name: Rebel News\n",
      "Text: Save Dr. Jordan Peterson!\n",
      "\n",
      "The College of Psychologists of Ontario is trying to cancel Dr. Jordan Peterson — help f… https://t.co/zjS0hbgKtU\n",
      "_ _ _ _ _ _ _ _ _ _ _ \n",
      "User name: Rep. Anna V. Eskamani 🔨\n",
      "Text: So much attention on what's happening at @NewCollegeofFL but not enough attention of how this sits in the larger fr… https://t.co/ZIZfrhTbJI\n",
      "_ _ _ _ _ _ _ _ _ _ _ \n",
      "User name: Ashok Gehlot\n",
      "Text: Talking to media at SMS Medical College | January 08. https://t.co/sjiIq7dkQu\n",
      "_ _ _ _ _ _ _ _ _ _ _ \n",
      "User name: Dinesh D'Souza\n",
      "Text: The Ontario College of Psychologists has ordered Jordan Peterson to mandatory social media communication retraining… https://t.co/tniUeEcVXo\n",
      "_ _ _ _ _ _ _ _ _ _ _ \n",
      "User name: Rebel News\n",
      "Text: Save Dr. Jordan Peterson!\n",
      "\n",
      "The College of Psychologists of Ontario is trying to cancel Dr. Jordan Peterson — help f… https://t.co/zjS0hbgKtU\n"
     ]
    }
   ],
   "source": [
    "for i in twitter_collection.find({\"text\":{\"$regex\":\"College\"}}).limit(10):\n",
    "    try:\n",
    "        print(\"_ _ _ _ _ _ _ _ _ _ _ \")\n",
    "        print(\"User name:\",i[\"user\"][\"name\"])\n",
    "        print(\"Text:\",i[\"text\"])\n",
    "    except:\n",
    "        pass"
   ]
  },
  {
   "cell_type": "code",
   "execution_count": 11,
   "metadata": {},
   "outputs": [
    {
     "name": "stdout",
     "output_type": "stream",
     "text": [
      "dict_keys(['_id', 'created_at', 'id', 'id_str', 'text', 'truncated', 'entities', 'metadata', 'source', 'in_reply_to_status_id', 'in_reply_to_status_id_str', 'in_reply_to_user_id', 'in_reply_to_user_id_str', 'in_reply_to_screen_name', 'user', 'geo', 'coordinates', 'place', 'contributors', 'is_quote_status', 'retweet_count', 'favorite_count', 'favorited', 'retweeted', 'possibly_sensitive', 'lang'])\n"
     ]
    }
   ],
   "source": [
    "print(i.keys())"
   ]
  },
  {
   "cell_type": "code",
   "execution_count": 12,
   "metadata": {},
   "outputs": [],
   "source": [
    "#now we need to do sentimental of our data using pymongo\n",
    "\n",
    "#we need to create a new collection for this\n",
    "\n",
    "for i in twitter_collection.find({\"text\":{\"$regex\":\"College\"}}).limit(10):\n",
    "    try:\n",
    "        tweet_1.insert_one(i)\n",
    "    except:\n",
    "        pass"
   ]
  },
  {
   "cell_type": "code",
   "execution_count": 13,
   "metadata": {},
   "outputs": [
    {
     "data": {
      "text/plain": [
       "{'_id_': {'v': 2, 'key': [('_id', 1)]},\n",
       " 'text_text': {'v': 2,\n",
       "  'key': [('_fts', 'text'), ('_ftsx', 1)],\n",
       "  'weights': SON([('text', 1)]),\n",
       "  'default_language': 'english',\n",
       "  'language_override': 'language',\n",
       "  'textIndexVersion': 3}}"
      ]
     },
     "execution_count": 13,
     "metadata": {},
     "output_type": "execute_result"
    }
   ],
   "source": [
    "tweet_1.index_information()"
   ]
  },
  {
   "cell_type": "code",
   "execution_count": 14,
   "metadata": {},
   "outputs": [
    {
     "data": {
      "text/plain": [
       "'text_text'"
      ]
     },
     "execution_count": 14,
     "metadata": {},
     "output_type": "execute_result"
    }
   ],
   "source": [
    "\n",
    "tweet_1.create_index([('text', TEXT)], default_language='english')"
   ]
  },
  {
   "cell_type": "code",
   "execution_count": 15,
   "metadata": {},
   "outputs": [
    {
     "data": {
      "text/plain": [
       "{'_id_': {'v': 2, 'key': [('_id', 1)]},\n",
       " 'text_text': {'v': 2,\n",
       "  'key': [('_fts', 'text'), ('_ftsx', 1)],\n",
       "  'weights': SON([('text', 1)]),\n",
       "  'default_language': 'english',\n",
       "  'language_override': 'language',\n",
       "  'textIndexVersion': 3}}"
      ]
     },
     "execution_count": 15,
     "metadata": {},
     "output_type": "execute_result"
    }
   ],
   "source": [
    "tweet_1.index_information()"
   ]
  },
  {
   "cell_type": "code",
   "execution_count": 16,
   "metadata": {},
   "outputs": [
    {
     "data": {
      "text/plain": [
       "15"
      ]
     },
     "execution_count": 16,
     "metadata": {},
     "output_type": "execute_result"
    }
   ],
   "source": [
    "tweet_1.estimated_document_count()"
   ]
  },
  {
   "cell_type": "code",
   "execution_count": 17,
   "metadata": {},
   "outputs": [
    {
     "data": {
      "text/plain": [
       "{'_id': ObjectId('63bc32125938cef927729a1e'),\n",
       " 'created_at': 'Sun Jan 08 10:58:19 +0000 2023',\n",
       " 'id': 1612040998988746754,\n",
       " 'id_str': '1612040998988746754',\n",
       " 'text': \"Letters: Sorry Erin O'Toole, but those 'f--k Trudeau' flags are giving voice to democracy https://t.co/s2P8rdsk4Y\",\n",
       " 'truncated': False,\n",
       " 'entities': {'hashtags': [],\n",
       "  'symbols': [],\n",
       "  'user_mentions': [],\n",
       "  'urls': [{'url': 'https://t.co/s2P8rdsk4Y',\n",
       "    'expanded_url': 'https://nationalpost.com/opinion/those-f-k-trudeau-flags-are-giving-voice-to-democracy?utm_term=Autofeed&utm_medium=Social&utm_source=Twitter#Echobox=1673175273',\n",
       "    'display_url': 'nationalpost.com/opinion/those-…',\n",
       "    'indices': [90, 113]}]},\n",
       " 'metadata': {'result_type': 'popular', 'iso_language_code': 'en'},\n",
       " 'source': '<a href=\"https://www.echobox.com\" rel=\"nofollow\">Echobox</a>',\n",
       " 'in_reply_to_status_id': None,\n",
       " 'in_reply_to_status_id_str': None,\n",
       " 'in_reply_to_user_id': None,\n",
       " 'in_reply_to_user_id_str': None,\n",
       " 'in_reply_to_screen_name': None,\n",
       " 'user': {'id': 14216661,\n",
       "  'id_str': '14216661',\n",
       "  'name': 'National Post',\n",
       "  'screen_name': 'nationalpost',\n",
       "  'location': 'Canada',\n",
       "  'description': 'News, analysis and commentary by the National Post.',\n",
       "  'url': 'http://t.co/oKWsUt0rCz',\n",
       "  'entities': {'url': {'urls': [{'url': 'http://t.co/oKWsUt0rCz',\n",
       "      'expanded_url': 'http://www.nationalpost.com',\n",
       "      'display_url': 'nationalpost.com',\n",
       "      'indices': [0, 22]}]},\n",
       "   'description': {'urls': []}},\n",
       "  'protected': False,\n",
       "  'followers_count': 1004775,\n",
       "  'friends_count': 199,\n",
       "  'listed_count': 7642,\n",
       "  'created_at': 'Tue Mar 25 16:25:25 +0000 2008',\n",
       "  'favourites_count': 932,\n",
       "  'utc_offset': None,\n",
       "  'time_zone': None,\n",
       "  'geo_enabled': True,\n",
       "  'verified': True,\n",
       "  'statuses_count': 386554,\n",
       "  'lang': None,\n",
       "  'contributors_enabled': False,\n",
       "  'is_translator': False,\n",
       "  'is_translation_enabled': False,\n",
       "  'profile_background_color': 'F5C002',\n",
       "  'profile_background_image_url': 'http://abs.twimg.com/images/themes/theme1/bg.png',\n",
       "  'profile_background_image_url_https': 'https://abs.twimg.com/images/themes/theme1/bg.png',\n",
       "  'profile_background_tile': False,\n",
       "  'profile_image_url': 'http://pbs.twimg.com/profile_images/877014191273517056/mv9ErfX-_normal.jpg',\n",
       "  'profile_image_url_https': 'https://pbs.twimg.com/profile_images/877014191273517056/mv9ErfX-_normal.jpg',\n",
       "  'profile_banner_url': 'https://pbs.twimg.com/profile_banners/14216661/1630439010',\n",
       "  'profile_link_color': '0000FF',\n",
       "  'profile_sidebar_border_color': 'FFD800',\n",
       "  'profile_sidebar_fill_color': 'C8C5B2',\n",
       "  'profile_text_color': '000000',\n",
       "  'profile_use_background_image': False,\n",
       "  'has_extended_profile': False,\n",
       "  'default_profile': False,\n",
       "  'default_profile_image': False,\n",
       "  'following': False,\n",
       "  'follow_request_sent': False,\n",
       "  'notifications': False,\n",
       "  'translator_type': 'none',\n",
       "  'withheld_in_countries': []},\n",
       " 'geo': None,\n",
       " 'coordinates': None,\n",
       " 'place': None,\n",
       " 'contributors': None,\n",
       " 'is_quote_status': False,\n",
       " 'retweet_count': 367,\n",
       " 'favorite_count': 1882,\n",
       " 'favorited': False,\n",
       " 'retweeted': False,\n",
       " 'possibly_sensitive': False,\n",
       " 'lang': 'en'}"
      ]
     },
     "execution_count": 17,
     "metadata": {},
     "output_type": "execute_result"
    }
   ],
   "source": [
    "tweet_1.find_one()"
   ]
  },
  {
   "cell_type": "code",
   "execution_count": 18,
   "metadata": {},
   "outputs": [
    {
     "data": {
      "text/plain": [
       "{'_id': ObjectId('63bcec33b86a9ea17db72f9b'),\n",
       " 'created_at': 'Sun Jan 08 07:33:10 +0000 2023',\n",
       " 'id': 1611989373737906183,\n",
       " 'id_str': '1611989373737906183',\n",
       " 'text': 'Talking to media at SMS Medical College | January 08. https://t.co/sjiIq7dkQu',\n",
       " 'truncated': False,\n",
       " 'entities': {'hashtags': [],\n",
       "  'symbols': [],\n",
       "  'user_mentions': [],\n",
       "  'urls': [{'url': 'https://t.co/sjiIq7dkQu',\n",
       "    'expanded_url': 'https://twitter.com/i/broadcasts/1ZkKzXpnnpWJv',\n",
       "    'display_url': 'twitter.com/i/broadcasts/1…',\n",
       "    'indices': [54, 77]}]},\n",
       " 'metadata': {'result_type': 'popular', 'iso_language_code': 'en'},\n",
       " 'source': '<a href=\"https://studio.twitter.com\" rel=\"nofollow\">Twitter Media Studio</a>',\n",
       " 'in_reply_to_status_id': None,\n",
       " 'in_reply_to_status_id_str': None,\n",
       " 'in_reply_to_user_id': None,\n",
       " 'in_reply_to_user_id_str': None,\n",
       " 'in_reply_to_screen_name': None,\n",
       " 'user': {'id': 385926583,\n",
       "  'id_str': '385926583',\n",
       "  'name': 'Ashok Gehlot',\n",
       "  'screen_name': 'ashokgehlot51',\n",
       "  'location': 'Rajasthan, India',\n",
       "  'description': 'Chief Minister of Rajasthan',\n",
       "  'url': 'https://t.co/SAxoc3pMI5',\n",
       "  'entities': {'url': {'urls': [{'url': 'https://t.co/SAxoc3pMI5',\n",
       "      'expanded_url': 'http://www.ashokgehlot.in',\n",
       "      'display_url': 'ashokgehlot.in',\n",
       "      'indices': [0, 23]}]},\n",
       "   'description': {'urls': []}},\n",
       "  'protected': False,\n",
       "  'followers_count': 4436337,\n",
       "  'friends_count': 106,\n",
       "  'listed_count': 1261,\n",
       "  'created_at': 'Thu Oct 06 11:27:58 +0000 2011',\n",
       "  'favourites_count': 11151,\n",
       "  'utc_offset': None,\n",
       "  'time_zone': None,\n",
       "  'geo_enabled': False,\n",
       "  'verified': True,\n",
       "  'statuses_count': 33584,\n",
       "  'lang': None,\n",
       "  'contributors_enabled': False,\n",
       "  'is_translator': False,\n",
       "  'is_translation_enabled': False,\n",
       "  'profile_background_color': '89C9FA',\n",
       "  'profile_background_image_url': 'http://abs.twimg.com/images/themes/theme1/bg.png',\n",
       "  'profile_background_image_url_https': 'https://abs.twimg.com/images/themes/theme1/bg.png',\n",
       "  'profile_background_tile': False,\n",
       "  'profile_image_url': 'http://pbs.twimg.com/profile_images/1562365094830682114/Hk6nxBPq_normal.jpg',\n",
       "  'profile_image_url_https': 'https://pbs.twimg.com/profile_images/1562365094830682114/Hk6nxBPq_normal.jpg',\n",
       "  'profile_banner_url': 'https://pbs.twimg.com/profile_banners/385926583/1660620058',\n",
       "  'profile_link_color': '19CF86',\n",
       "  'profile_sidebar_border_color': 'FFFFFF',\n",
       "  'profile_sidebar_fill_color': 'DDEEF6',\n",
       "  'profile_text_color': '333333',\n",
       "  'profile_use_background_image': False,\n",
       "  'has_extended_profile': True,\n",
       "  'default_profile': False,\n",
       "  'default_profile_image': False,\n",
       "  'following': False,\n",
       "  'follow_request_sent': False,\n",
       "  'notifications': False,\n",
       "  'translator_type': 'none',\n",
       "  'withheld_in_countries': []},\n",
       " 'geo': None,\n",
       " 'coordinates': None,\n",
       " 'place': None,\n",
       " 'contributors': None,\n",
       " 'is_quote_status': False,\n",
       " 'retweet_count': 1534,\n",
       " 'favorite_count': 2298,\n",
       " 'favorited': False,\n",
       " 'retweeted': False,\n",
       " 'possibly_sensitive': False,\n",
       " 'lang': 'en'}"
      ]
     },
     "execution_count": 18,
     "metadata": {},
     "output_type": "execute_result"
    }
   ],
   "source": [
    "tweet_1.find_one({\"$text\": {\"$search\": \"College\"}})"
   ]
  },
  {
   "cell_type": "code",
   "execution_count": 19,
   "metadata": {},
   "outputs": [
    {
     "data": {
      "text/plain": [
       "'Talking to media at SMS Medical College | January 08. https://t.co/sjiIq7dkQu'"
      ]
     },
     "execution_count": 19,
     "metadata": {},
     "output_type": "execute_result"
    }
   ],
   "source": [
    "tweet_1.find_one({\"$text\": {\"$search\": \"College\"}})[\"text\"]"
   ]
  },
  {
   "cell_type": "code",
   "execution_count": 20,
   "metadata": {},
   "outputs": [
    {
     "data": {
      "text/plain": [
       "'Ashok Gehlot'"
      ]
     },
     "execution_count": 20,
     "metadata": {},
     "output_type": "execute_result"
    }
   ],
   "source": [
    "tweet_1.find_one({\"$text\": {\"$search\": \"College\"}})[\"user\"][\"name\"]"
   ]
  },
  {
   "cell_type": "code",
   "execution_count": 21,
   "metadata": {},
   "outputs": [
    {
     "data": {
      "text/plain": [
       "'Chief Minister of Rajasthan'"
      ]
     },
     "execution_count": 21,
     "metadata": {},
     "output_type": "execute_result"
    }
   ],
   "source": [
    "tweet_1.find_one({\"$text\": {\"$search\": \"College\"}})[\"user\"][\"description\"]"
   ]
  },
  {
   "cell_type": "code",
   "execution_count": 22,
   "metadata": {},
   "outputs": [
    {
     "data": {
      "text/plain": [
       "4436337"
      ]
     },
     "execution_count": 22,
     "metadata": {},
     "output_type": "execute_result"
    }
   ],
   "source": [
    "tweet_1.find_one({\"$text\": {\"$search\": \"College\"}})[\"user\"][\"followers_count\"]"
   ]
  },
  {
   "cell_type": "code",
   "execution_count": 23,
   "metadata": {},
   "outputs": [
    {
     "data": {
      "text/plain": [
       "106"
      ]
     },
     "execution_count": 23,
     "metadata": {},
     "output_type": "execute_result"
    }
   ],
   "source": [
    "tweet_1.find_one({\"$text\": {\"$search\": \"College\"}})[\"user\"][\"friends_count\"]"
   ]
  },
  {
   "cell_type": "code",
   "execution_count": 24,
   "metadata": {},
   "outputs": [
    {
     "data": {
      "text/plain": [
       "33584"
      ]
     },
     "execution_count": 24,
     "metadata": {},
     "output_type": "execute_result"
    }
   ],
   "source": [
    "tweet_1.find_one({\"$text\": {\"$search\": \"College\"}})[\"user\"][\"statuses_count\"]"
   ]
  },
  {
   "cell_type": "code",
   "execution_count": 25,
   "metadata": {},
   "outputs": [
    {
     "data": {
      "text/plain": [
       "'Thu Oct 06 11:27:58 +0000 2011'"
      ]
     },
     "execution_count": 25,
     "metadata": {},
     "output_type": "execute_result"
    }
   ],
   "source": [
    "tweet_1.find_one({\"$text\": {\"$search\": \"College\"}})[\"user\"][\"created_at\"]"
   ]
  },
  {
   "cell_type": "code",
   "execution_count": 26,
   "metadata": {},
   "outputs": [
    {
     "data": {
      "text/plain": [
       "11151"
      ]
     },
     "execution_count": 26,
     "metadata": {},
     "output_type": "execute_result"
    }
   ],
   "source": [
    "tweet_1.find_one({\"$text\": {\"$search\": \"College\"}})[\"user\"][\"favourites_count\"]"
   ]
  },
  {
   "cell_type": "code",
   "execution_count": 27,
   "metadata": {},
   "outputs": [
    {
     "data": {
      "text/plain": [
       "True"
      ]
     },
     "execution_count": 27,
     "metadata": {},
     "output_type": "execute_result"
    }
   ],
   "source": [
    "tweet_1.find_one({\"$text\": {\"$search\": \"College\"}})[\"user\"][\"verified\"]"
   ]
  },
  {
   "cell_type": "code",
   "execution_count": 28,
   "metadata": {},
   "outputs": [
    {
     "data": {
      "text/plain": [
       "False"
      ]
     },
     "execution_count": 28,
     "metadata": {},
     "output_type": "execute_result"
    }
   ],
   "source": [
    "tweet_1.find_one({\"$text\": {\"$search\": \"College\"}})[\"user\"][\"geo_enabled\"]"
   ]
  },
  {
   "cell_type": "code",
   "execution_count": 29,
   "metadata": {},
   "outputs": [
    {
     "data": {
      "text/plain": [
       "'http://pbs.twimg.com/profile_images/1562365094830682114/Hk6nxBPq_normal.jpg'"
      ]
     },
     "execution_count": 29,
     "metadata": {},
     "output_type": "execute_result"
    }
   ],
   "source": [
    "tweet_1.find_one({\"$text\": {\"$search\": \"College\"}})[\"user\"][\"profile_image_url\"]"
   ]
  }
 ],
 "metadata": {
  "kernelspec": {
   "display_name": "base",
   "language": "python",
   "name": "python3"
  },
  "language_info": {
   "codemirror_mode": {
    "name": "ipython",
    "version": 3
   },
   "file_extension": ".py",
   "mimetype": "text/x-python",
   "name": "python",
   "nbconvert_exporter": "python",
   "pygments_lexer": "ipython3",
   "version": "3.9.13 (main, Aug 25 2022, 23:51:50) [MSC v.1916 64 bit (AMD64)]"
  },
  "orig_nbformat": 4,
  "vscode": {
   "interpreter": {
    "hash": "d520ab231c01d0547f20eca0610860640c0d39f5bdbf961acd291b6770781336"
   }
  }
 },
 "nbformat": 4,
 "nbformat_minor": 2
}
